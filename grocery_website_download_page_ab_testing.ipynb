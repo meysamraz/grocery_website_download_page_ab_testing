{
 "cells": [
  {
   "cell_type": "markdown",
   "metadata": {
    "papermill": {
     "duration": 0.021382,
     "end_time": "2020-09-28T09:36:22.340002",
     "exception": false,
     "start_time": "2020-09-28T09:36:22.318620",
     "status": "completed"
    },
    "tags": []
   },
   "source": [
    "*For this dataset I decided to apply my knowledge of A/B tests and learn how to design an experiment for a product and analyse the results to draw some insights and reccomendations.*"
   ]
  },
  {
   "cell_type": "markdown",
   "metadata": {
    "papermill": {
     "duration": 0.023061,
     "end_time": "2020-09-28T09:36:22.389663",
     "exception": false,
     "start_time": "2020-09-28T09:36:22.366602",
     "status": "completed"
    },
    "tags": []
   },
   "source": [
    "### **Website of the grossery store chain**"
   ]
  },
  {
   "cell_type": "markdown",
   "metadata": {
    "papermill": {
     "duration": 0.02063,
     "end_time": "2020-09-28T09:36:22.431742",
     "exception": false,
     "start_time": "2020-09-28T09:36:22.411112",
     "status": "completed"
    },
    "tags": []
   },
   "source": [
    "<img src=\"https://i.imgur.com/PPBlwBa.png\" width=\"300px\">"
   ]
  },
  {
   "cell_type": "markdown",
   "metadata": {
    "papermill": {
     "duration": 0.016801,
     "end_time": "2020-09-28T09:36:22.467419",
     "exception": false,
     "start_time": "2020-09-28T09:36:22.450618",
     "status": "completed"
    },
    "tags": []
   },
   "source": [
    "\n",
    "**In this use case I am working as an analyst for a large grossery chain. One of the goals our company has, it's to drive more customers to download our mobile app and register for the loyalty program.**\n",
    "\n",
    "*My manager is curious if changing link to a button of the app store will improve the click through rate for our download app page.*\n",
    "\n",
    "![link to button for downloading the app](https://i.imgur.com/RXxvVpY.png)"
   ]
  },
  {
   "cell_type": "code",
   "execution_count": 1,
   "metadata": {
    "_cell_guid": "b1076dfc-b9ad-4769-8c92-a6c4dae69d19",
    "_uuid": "8f2839f25d086af736a60e9eeb907d3b93b6e0e5",
    "execution": {
     "iopub.execute_input": "2020-09-28T09:36:22.510440Z",
     "iopub.status.busy": "2020-09-28T09:36:22.509510Z",
     "iopub.status.idle": "2020-09-28T09:36:23.476382Z",
     "shell.execute_reply": "2020-09-28T09:36:23.475506Z"
    },
    "papermill": {
     "duration": 0.993263,
     "end_time": "2020-09-28T09:36:23.476523",
     "exception": false,
     "start_time": "2020-09-28T09:36:22.483260",
     "status": "completed"
    },
    "tags": []
   },
   "outputs": [],
   "source": [
    "#let's import all the needed libraries for the analysis\n",
    "import pandas as pd\n",
    "import numpy as np\n",
    "import matplotlib.pyplot as plt\n",
    "from scipy.stats import ttest_ind"
   ]
  },
  {
   "cell_type": "code",
   "execution_count": 2,
   "metadata": {
    "_cell_guid": "79c7e3d0-c299-4dcb-8224-4455121ee9b0",
    "_uuid": "d629ff2d2480ee46fbb7e2d37f6b5fab8052498a",
    "execution": {
     "iopub.execute_input": "2020-09-28T09:36:23.519691Z",
     "iopub.status.busy": "2020-09-28T09:36:23.518846Z",
     "iopub.status.idle": "2020-09-28T09:36:23.746310Z",
     "shell.execute_reply": "2020-09-28T09:36:23.745535Z"
    },
    "papermill": {
     "duration": 0.253746,
     "end_time": "2020-09-28T09:36:23.746440",
     "exception": false,
     "start_time": "2020-09-28T09:36:23.492694",
     "status": "completed"
    },
    "tags": []
   },
   "outputs": [
    {
     "data": {
      "text/html": [
       "<div>\n",
       "<style scoped>\n",
       "    .dataframe tbody tr th:only-of-type {\n",
       "        vertical-align: middle;\n",
       "    }\n",
       "\n",
       "    .dataframe tbody tr th {\n",
       "        vertical-align: top;\n",
       "    }\n",
       "\n",
       "    .dataframe thead th {\n",
       "        text-align: right;\n",
       "    }\n",
       "</style>\n",
       "<table border=\"1\" class=\"dataframe\">\n",
       "  <thead>\n",
       "    <tr style=\"text-align: right;\">\n",
       "      <th></th>\n",
       "      <th>RecordID</th>\n",
       "      <th>IP Address</th>\n",
       "      <th>LoggedInFlag</th>\n",
       "      <th>ServerID</th>\n",
       "      <th>VisitPageFlag</th>\n",
       "    </tr>\n",
       "  </thead>\n",
       "  <tbody>\n",
       "    <tr>\n",
       "      <th>0</th>\n",
       "      <td>1</td>\n",
       "      <td>39.13.114.2</td>\n",
       "      <td>1</td>\n",
       "      <td>2</td>\n",
       "      <td>0</td>\n",
       "    </tr>\n",
       "    <tr>\n",
       "      <th>1</th>\n",
       "      <td>2</td>\n",
       "      <td>13.3.25.8</td>\n",
       "      <td>1</td>\n",
       "      <td>1</td>\n",
       "      <td>0</td>\n",
       "    </tr>\n",
       "    <tr>\n",
       "      <th>2</th>\n",
       "      <td>3</td>\n",
       "      <td>247.8.211.8</td>\n",
       "      <td>1</td>\n",
       "      <td>1</td>\n",
       "      <td>0</td>\n",
       "    </tr>\n",
       "    <tr>\n",
       "      <th>3</th>\n",
       "      <td>4</td>\n",
       "      <td>124.8.220.3</td>\n",
       "      <td>0</td>\n",
       "      <td>3</td>\n",
       "      <td>0</td>\n",
       "    </tr>\n",
       "    <tr>\n",
       "      <th>4</th>\n",
       "      <td>5</td>\n",
       "      <td>60.10.192.7</td>\n",
       "      <td>0</td>\n",
       "      <td>2</td>\n",
       "      <td>0</td>\n",
       "    </tr>\n",
       "  </tbody>\n",
       "</table>\n",
       "</div>"
      ],
      "text/plain": [
       "   RecordID   IP Address  LoggedInFlag  ServerID  VisitPageFlag\n",
       "0         1  39.13.114.2             1         2              0\n",
       "1         2    13.3.25.8             1         1              0\n",
       "2         3  247.8.211.8             1         1              0\n",
       "3         4  124.8.220.3             0         3              0\n",
       "4         5  60.10.192.7             0         2              0"
      ]
     },
     "execution_count": 2,
     "metadata": {},
     "output_type": "execute_result"
    }
   ],
   "source": [
    "#upload grossery website data\n",
    "grossery_web_data_orig = pd.read_csv('../input/grocery-website-data-for-ab-test/grocerywebsiteabtestdata.csv')\n",
    "grossery_web_data_orig.head()"
   ]
  },
  {
   "cell_type": "markdown",
   "metadata": {
    "papermill": {
     "duration": 0.017777,
     "end_time": "2020-09-28T09:36:23.781141",
     "exception": false,
     "start_time": "2020-09-28T09:36:23.763364",
     "status": "completed"
    },
    "tags": []
   },
   "source": [
    "**To find the answer I will perform a randomized experiment.**\n",
    "\n",
    "Our unit of diversion in this experiment is IP address. \n",
    "The population we're targeting - Website visitors without an account. \n",
    "The duration of the test - 1 week. \n",
    "The size of our treatment and control groups - 1/3 of the treatment units and 2/3 of control units.\n",
    "\n",
    "*Let's try to figure out if the customer clicked or not on the download app button on the home page.*"
   ]
  },
  {
   "cell_type": "markdown",
   "metadata": {
    "papermill": {
     "duration": 0.017174,
     "end_time": "2020-09-28T09:36:23.814935",
     "exception": false,
     "start_time": "2020-09-28T09:36:23.797761",
     "status": "completed"
    },
    "tags": []
   },
   "source": [
    "### Data preparation\n",
    "\n",
    "Server 1 will contain the data for our treatment group and servers 2 and 3 for the control group. So data will be divided as 33% and 67%.\n",
    "\n",
    "LoggedInFlag (shows if user has profile on our website) and VisitPageFlag (shows if user clicked on our dowlnoad app link)."
   ]
  },
  {
   "cell_type": "code",
   "execution_count": 3,
   "metadata": {
    "execution": {
     "iopub.execute_input": "2020-09-28T09:36:23.867439Z",
     "iopub.status.busy": "2020-09-28T09:36:23.857213Z",
     "iopub.status.idle": "2020-09-28T09:36:24.213075Z",
     "shell.execute_reply": "2020-09-28T09:36:24.212275Z"
    },
    "papermill": {
     "duration": 0.380996,
     "end_time": "2020-09-28T09:36:24.213203",
     "exception": false,
     "start_time": "2020-09-28T09:36:23.832207",
     "status": "completed"
    },
    "tags": []
   },
   "outputs": [],
   "source": [
    "#grouping to make one row per IP address\n",
    "grossery_web_data = grossery_web_data_orig.groupby(['IP Address', 'LoggedInFlag', 'ServerID'])['VisitPageFlag'].sum().reset_index(name='sum_VisitPageFlag')"
   ]
  },
  {
   "cell_type": "code",
   "execution_count": 4,
   "metadata": {
    "execution": {
     "iopub.execute_input": "2020-09-28T09:36:24.255518Z",
     "iopub.status.busy": "2020-09-28T09:36:24.254468Z",
     "iopub.status.idle": "2020-09-28T09:36:24.342331Z",
     "shell.execute_reply": "2020-09-28T09:36:24.341623Z"
    },
    "papermill": {
     "duration": 0.112426,
     "end_time": "2020-09-28T09:36:24.342484",
     "exception": false,
     "start_time": "2020-09-28T09:36:24.230058",
     "status": "completed"
    },
    "tags": []
   },
   "outputs": [
    {
     "data": {
      "text/html": [
       "<div>\n",
       "<style scoped>\n",
       "    .dataframe tbody tr th:only-of-type {\n",
       "        vertical-align: middle;\n",
       "    }\n",
       "\n",
       "    .dataframe tbody tr th {\n",
       "        vertical-align: top;\n",
       "    }\n",
       "\n",
       "    .dataframe thead th {\n",
       "        text-align: right;\n",
       "    }\n",
       "</style>\n",
       "<table border=\"1\" class=\"dataframe\">\n",
       "  <thead>\n",
       "    <tr style=\"text-align: right;\">\n",
       "      <th></th>\n",
       "      <th>IP Address</th>\n",
       "      <th>LoggedInFlag</th>\n",
       "      <th>ServerID</th>\n",
       "      <th>sum_VisitPageFlag</th>\n",
       "      <th>visitFlag</th>\n",
       "    </tr>\n",
       "  </thead>\n",
       "  <tbody>\n",
       "    <tr>\n",
       "      <th>0</th>\n",
       "      <td>0.0.108.2</td>\n",
       "      <td>0</td>\n",
       "      <td>1</td>\n",
       "      <td>0</td>\n",
       "      <td>0</td>\n",
       "    </tr>\n",
       "    <tr>\n",
       "      <th>1</th>\n",
       "      <td>0.0.109.6</td>\n",
       "      <td>1</td>\n",
       "      <td>1</td>\n",
       "      <td>0</td>\n",
       "      <td>0</td>\n",
       "    </tr>\n",
       "    <tr>\n",
       "      <th>2</th>\n",
       "      <td>0.0.111.8</td>\n",
       "      <td>0</td>\n",
       "      <td>3</td>\n",
       "      <td>0</td>\n",
       "      <td>0</td>\n",
       "    </tr>\n",
       "    <tr>\n",
       "      <th>3</th>\n",
       "      <td>0.0.160.9</td>\n",
       "      <td>1</td>\n",
       "      <td>2</td>\n",
       "      <td>0</td>\n",
       "      <td>0</td>\n",
       "    </tr>\n",
       "    <tr>\n",
       "      <th>4</th>\n",
       "      <td>0.0.163.1</td>\n",
       "      <td>0</td>\n",
       "      <td>2</td>\n",
       "      <td>0</td>\n",
       "      <td>0</td>\n",
       "    </tr>\n",
       "  </tbody>\n",
       "</table>\n",
       "</div>"
      ],
      "text/plain": [
       "  IP Address  LoggedInFlag  ServerID  sum_VisitPageFlag  visitFlag\n",
       "0  0.0.108.2             0         1                  0          0\n",
       "1  0.0.109.6             1         1                  0          0\n",
       "2  0.0.111.8             0         3                  0          0\n",
       "3  0.0.160.9             1         2                  0          0\n",
       "4  0.0.163.1             0         2                  0          0"
      ]
     },
     "execution_count": 4,
     "metadata": {},
     "output_type": "execute_result"
    }
   ],
   "source": [
    "#checking if there is IP address with more than 1 visit\n",
    "grossery_web_data['visitFlag'] = grossery_web_data['sum_VisitPageFlag'].apply(lambda x: 1 if x !=0 else 0)\n",
    "grossery_web_data.head()"
   ]
  },
  {
   "cell_type": "code",
   "execution_count": 5,
   "metadata": {
    "execution": {
     "iopub.execute_input": "2020-09-28T09:36:24.386585Z",
     "iopub.status.busy": "2020-09-28T09:36:24.385708Z",
     "iopub.status.idle": "2020-09-28T09:36:24.394858Z",
     "shell.execute_reply": "2020-09-28T09:36:24.394134Z"
    },
    "papermill": {
     "duration": 0.033744,
     "end_time": "2020-09-28T09:36:24.395012",
     "exception": false,
     "start_time": "2020-09-28T09:36:24.361268",
     "status": "completed"
    },
    "tags": []
   },
   "outputs": [],
   "source": [
    "#creating groups for control and treatment\n",
    "grossery_web_data['group'] = grossery_web_data.ServerID.map({1:'Treatment', 2:'Control', 3:'Control'})"
   ]
  },
  {
   "cell_type": "code",
   "execution_count": 6,
   "metadata": {
    "execution": {
     "iopub.execute_input": "2020-09-28T09:36:24.439216Z",
     "iopub.status.busy": "2020-09-28T09:36:24.438009Z",
     "iopub.status.idle": "2020-09-28T09:36:24.443429Z",
     "shell.execute_reply": "2020-09-28T09:36:24.442432Z"
    },
    "papermill": {
     "duration": 0.030795,
     "end_time": "2020-09-28T09:36:24.443586",
     "exception": false,
     "start_time": "2020-09-28T09:36:24.412791",
     "status": "completed"
    },
    "tags": []
   },
   "outputs": [
    {
     "data": {
      "text/plain": [
       "IP Address           object\n",
       "LoggedInFlag          int64\n",
       "ServerID              int64\n",
       "sum_VisitPageFlag     int64\n",
       "visitFlag             int64\n",
       "group                object\n",
       "dtype: object"
      ]
     },
     "execution_count": 6,
     "metadata": {},
     "output_type": "execute_result"
    }
   ],
   "source": [
    "grossery_web_data.dtypes"
   ]
  },
  {
   "cell_type": "code",
   "execution_count": 7,
   "metadata": {
    "execution": {
     "iopub.execute_input": "2020-09-28T09:36:24.488094Z",
     "iopub.status.busy": "2020-09-28T09:36:24.487125Z",
     "iopub.status.idle": "2020-09-28T09:36:24.550931Z",
     "shell.execute_reply": "2020-09-28T09:36:24.550110Z"
    },
    "papermill": {
     "duration": 0.089053,
     "end_time": "2020-09-28T09:36:24.551065",
     "exception": false,
     "start_time": "2020-09-28T09:36:24.462012",
     "status": "completed"
    },
    "tags": []
   },
   "outputs": [
    {
     "data": {
      "text/html": [
       "<div>\n",
       "<style scoped>\n",
       "    .dataframe tbody tr th:only-of-type {\n",
       "        vertical-align: middle;\n",
       "    }\n",
       "\n",
       "    .dataframe tbody tr th {\n",
       "        vertical-align: top;\n",
       "    }\n",
       "\n",
       "    .dataframe thead th {\n",
       "        text-align: right;\n",
       "    }\n",
       "</style>\n",
       "<table border=\"1\" class=\"dataframe\">\n",
       "  <thead>\n",
       "    <tr style=\"text-align: right;\">\n",
       "      <th></th>\n",
       "      <th>IP Address</th>\n",
       "      <th>LoggedInFlag</th>\n",
       "      <th>ServerID</th>\n",
       "      <th>sum_VisitPageFlag</th>\n",
       "      <th>visitFlag</th>\n",
       "      <th>group</th>\n",
       "    </tr>\n",
       "  </thead>\n",
       "  <tbody>\n",
       "    <tr>\n",
       "      <th>0</th>\n",
       "      <td>0.0.108.2</td>\n",
       "      <td>0</td>\n",
       "      <td>1</td>\n",
       "      <td>0</td>\n",
       "      <td>0</td>\n",
       "      <td>Treatment</td>\n",
       "    </tr>\n",
       "    <tr>\n",
       "      <th>2</th>\n",
       "      <td>0.0.111.8</td>\n",
       "      <td>0</td>\n",
       "      <td>3</td>\n",
       "      <td>0</td>\n",
       "      <td>0</td>\n",
       "      <td>Control</td>\n",
       "    </tr>\n",
       "    <tr>\n",
       "      <th>4</th>\n",
       "      <td>0.0.163.1</td>\n",
       "      <td>0</td>\n",
       "      <td>2</td>\n",
       "      <td>0</td>\n",
       "      <td>0</td>\n",
       "      <td>Control</td>\n",
       "    </tr>\n",
       "    <tr>\n",
       "      <th>7</th>\n",
       "      <td>0.0.181.9</td>\n",
       "      <td>0</td>\n",
       "      <td>1</td>\n",
       "      <td>1</td>\n",
       "      <td>1</td>\n",
       "      <td>Treatment</td>\n",
       "    </tr>\n",
       "    <tr>\n",
       "      <th>11</th>\n",
       "      <td>0.0.20.3</td>\n",
       "      <td>0</td>\n",
       "      <td>1</td>\n",
       "      <td>0</td>\n",
       "      <td>0</td>\n",
       "      <td>Treatment</td>\n",
       "    </tr>\n",
       "    <tr>\n",
       "      <th>...</th>\n",
       "      <td>...</td>\n",
       "      <td>...</td>\n",
       "      <td>...</td>\n",
       "      <td>...</td>\n",
       "      <td>...</td>\n",
       "      <td>...</td>\n",
       "    </tr>\n",
       "    <tr>\n",
       "      <th>99746</th>\n",
       "      <td>99.9.206.2</td>\n",
       "      <td>0</td>\n",
       "      <td>1</td>\n",
       "      <td>0</td>\n",
       "      <td>0</td>\n",
       "      <td>Treatment</td>\n",
       "    </tr>\n",
       "    <tr>\n",
       "      <th>99748</th>\n",
       "      <td>99.9.215.4</td>\n",
       "      <td>0</td>\n",
       "      <td>3</td>\n",
       "      <td>1</td>\n",
       "      <td>1</td>\n",
       "      <td>Control</td>\n",
       "    </tr>\n",
       "    <tr>\n",
       "      <th>99759</th>\n",
       "      <td>99.9.65.2</td>\n",
       "      <td>0</td>\n",
       "      <td>2</td>\n",
       "      <td>0</td>\n",
       "      <td>0</td>\n",
       "      <td>Control</td>\n",
       "    </tr>\n",
       "    <tr>\n",
       "      <th>99761</th>\n",
       "      <td>99.9.86.3</td>\n",
       "      <td>0</td>\n",
       "      <td>1</td>\n",
       "      <td>1</td>\n",
       "      <td>1</td>\n",
       "      <td>Treatment</td>\n",
       "    </tr>\n",
       "    <tr>\n",
       "      <th>99762</th>\n",
       "      <td>99.9.86.9</td>\n",
       "      <td>0</td>\n",
       "      <td>1</td>\n",
       "      <td>0</td>\n",
       "      <td>0</td>\n",
       "      <td>Treatment</td>\n",
       "    </tr>\n",
       "  </tbody>\n",
       "</table>\n",
       "<p>49513 rows × 6 columns</p>\n",
       "</div>"
      ],
      "text/plain": [
       "       IP Address  LoggedInFlag  ServerID  sum_VisitPageFlag  visitFlag  \\\n",
       "0       0.0.108.2             0         1                  0          0   \n",
       "2       0.0.111.8             0         3                  0          0   \n",
       "4       0.0.163.1             0         2                  0          0   \n",
       "7       0.0.181.9             0         1                  1          1   \n",
       "11       0.0.20.3             0         1                  0          0   \n",
       "...           ...           ...       ...                ...        ...   \n",
       "99746  99.9.206.2             0         1                  0          0   \n",
       "99748  99.9.215.4             0         3                  1          1   \n",
       "99759   99.9.65.2             0         2                  0          0   \n",
       "99761   99.9.86.3             0         1                  1          1   \n",
       "99762   99.9.86.9             0         1                  0          0   \n",
       "\n",
       "           group  \n",
       "0      Treatment  \n",
       "2        Control  \n",
       "4        Control  \n",
       "7      Treatment  \n",
       "11     Treatment  \n",
       "...          ...  \n",
       "99746  Treatment  \n",
       "99748    Control  \n",
       "99759    Control  \n",
       "99761  Treatment  \n",
       "99762  Treatment  \n",
       "\n",
       "[49513 rows x 6 columns]"
      ]
     },
     "execution_count": 7,
     "metadata": {},
     "output_type": "execute_result"
    }
   ],
   "source": [
    "#removing all records where the LoggedInFlag=1, so it filters out all the users with accounts\n",
    "grossery_web_data = grossery_web_data[grossery_web_data['LoggedInFlag'] != 1]\n",
    "grossery_web_data"
   ]
  },
  {
   "cell_type": "markdown",
   "metadata": {
    "papermill": {
     "duration": 0.020843,
     "end_time": "2020-09-28T09:36:24.593089",
     "exception": false,
     "start_time": "2020-09-28T09:36:24.572246",
     "status": "completed"
    },
    "tags": []
   },
   "source": [
    "### Analyzing the result"
   ]
  },
  {
   "cell_type": "code",
   "execution_count": 8,
   "metadata": {
    "execution": {
     "iopub.execute_input": "2020-09-28T09:36:24.647866Z",
     "iopub.status.busy": "2020-09-28T09:36:24.646814Z",
     "iopub.status.idle": "2020-09-28T09:36:24.669606Z",
     "shell.execute_reply": "2020-09-28T09:36:24.668796Z"
    },
    "papermill": {
     "duration": 0.057493,
     "end_time": "2020-09-28T09:36:24.669733",
     "exception": false,
     "start_time": "2020-09-28T09:36:24.612240",
     "status": "completed"
    },
    "tags": []
   },
   "outputs": [
    {
     "data": {
      "text/plain": [
       "Ttest_indResult(statistic=11.879472502167134, pvalue=1.781696815610413e-32)"
      ]
     },
     "execution_count": 8,
     "metadata": {},
     "output_type": "execute_result"
    }
   ],
   "source": [
    "treatment = grossery_web_data[grossery_web_data['group']=='Treatment']\n",
    "control = grossery_web_data[grossery_web_data['group']=='Control']\n",
    "\n",
    "ttest_ind(treatment['visitFlag'], control['visitFlag'], equal_var = False)"
   ]
  },
  {
   "cell_type": "markdown",
   "metadata": {
    "papermill": {
     "duration": 0.019246,
     "end_time": "2020-09-28T09:36:24.708776",
     "exception": false,
     "start_time": "2020-09-28T09:36:24.689530",
     "status": "completed"
    },
    "tags": []
   },
   "source": [
    "Looking at the result of p-value seems like it's unlikely that means are the same.\n",
    "\n",
    "So next let's count number of visits grouped by treatment or control group and see if they clicked on a link."
   ]
  },
  {
   "cell_type": "code",
   "execution_count": 9,
   "metadata": {
    "execution": {
     "iopub.execute_input": "2020-09-28T09:36:24.758826Z",
     "iopub.status.busy": "2020-09-28T09:36:24.758044Z",
     "iopub.status.idle": "2020-09-28T09:36:24.786199Z",
     "shell.execute_reply": "2020-09-28T09:36:24.787094Z"
    },
    "papermill": {
     "duration": 0.058876,
     "end_time": "2020-09-28T09:36:24.787302",
     "exception": false,
     "start_time": "2020-09-28T09:36:24.728426",
     "status": "completed"
    },
    "tags": []
   },
   "outputs": [
    {
     "data": {
      "text/html": [
       "<div>\n",
       "<style scoped>\n",
       "    .dataframe tbody tr th:only-of-type {\n",
       "        vertical-align: middle;\n",
       "    }\n",
       "\n",
       "    .dataframe tbody tr th {\n",
       "        vertical-align: top;\n",
       "    }\n",
       "\n",
       "    .dataframe thead th {\n",
       "        text-align: right;\n",
       "    }\n",
       "</style>\n",
       "<table border=\"1\" class=\"dataframe\">\n",
       "  <thead>\n",
       "    <tr style=\"text-align: right;\">\n",
       "      <th></th>\n",
       "      <th>group</th>\n",
       "      <th>visitFlag</th>\n",
       "      <th>Count</th>\n",
       "    </tr>\n",
       "  </thead>\n",
       "  <tbody>\n",
       "    <tr>\n",
       "      <th>0</th>\n",
       "      <td>Control</td>\n",
       "      <td>0</td>\n",
       "      <td>26839</td>\n",
       "    </tr>\n",
       "    <tr>\n",
       "      <th>1</th>\n",
       "      <td>Control</td>\n",
       "      <td>1</td>\n",
       "      <td>6131</td>\n",
       "    </tr>\n",
       "    <tr>\n",
       "      <th>2</th>\n",
       "      <td>Treatment</td>\n",
       "      <td>0</td>\n",
       "      <td>12696</td>\n",
       "    </tr>\n",
       "    <tr>\n",
       "      <th>3</th>\n",
       "      <td>Treatment</td>\n",
       "      <td>1</td>\n",
       "      <td>3847</td>\n",
       "    </tr>\n",
       "  </tbody>\n",
       "</table>\n",
       "</div>"
      ],
      "text/plain": [
       "       group  visitFlag  Count\n",
       "0    Control          0  26839\n",
       "1    Control          1   6131\n",
       "2  Treatment          0  12696\n",
       "3  Treatment          1   3847"
      ]
     },
     "execution_count": 9,
     "metadata": {},
     "output_type": "execute_result"
    }
   ],
   "source": [
    "# let's calculate the differences in means\n",
    "grossery_web_data_diff_mean = grossery_web_data.groupby(['group', 'visitFlag'])['group'].count().reset_index(name='Count')\n",
    "grossery_web_data_diff_mean"
   ]
  },
  {
   "cell_type": "markdown",
   "metadata": {
    "papermill": {
     "duration": 0.02203,
     "end_time": "2020-09-28T09:36:24.836695",
     "exception": false,
     "start_time": "2020-09-28T09:36:24.814665",
     "status": "completed"
    },
    "tags": []
   },
   "source": [
    "It would be nice to see the percent differences."
   ]
  },
  {
   "cell_type": "code",
   "execution_count": 10,
   "metadata": {
    "execution": {
     "iopub.execute_input": "2020-09-28T09:36:24.901017Z",
     "iopub.status.busy": "2020-09-28T09:36:24.900193Z",
     "iopub.status.idle": "2020-09-28T09:36:24.915135Z",
     "shell.execute_reply": "2020-09-28T09:36:24.914376Z"
    },
    "papermill": {
     "duration": 0.05354,
     "end_time": "2020-09-28T09:36:24.915290",
     "exception": false,
     "start_time": "2020-09-28T09:36:24.861750",
     "status": "completed"
    },
    "tags": []
   },
   "outputs": [
    {
     "data": {
      "text/plain": [
       "group\n",
       "Control      0.185957\n",
       "Treatment    0.232545\n",
       "Name: visitFlag, dtype: float64"
      ]
     },
     "execution_count": 10,
     "metadata": {},
     "output_type": "execute_result"
    }
   ],
   "source": [
    "grossery_web_data.groupby('group').visitFlag.mean()"
   ]
  },
  {
   "cell_type": "code",
   "execution_count": 11,
   "metadata": {
    "execution": {
     "iopub.execute_input": "2020-09-28T09:36:24.972108Z",
     "iopub.status.busy": "2020-09-28T09:36:24.970978Z",
     "iopub.status.idle": "2020-09-28T09:36:25.026405Z",
     "shell.execute_reply": "2020-09-28T09:36:25.025525Z"
    },
    "papermill": {
     "duration": 0.087545,
     "end_time": "2020-09-28T09:36:25.026550",
     "exception": false,
     "start_time": "2020-09-28T09:36:24.939005",
     "status": "completed"
    },
    "tags": []
   },
   "outputs": [
    {
     "data": {
      "text/html": [
       "<div>\n",
       "<style scoped>\n",
       "    .dataframe tbody tr th:only-of-type {\n",
       "        vertical-align: middle;\n",
       "    }\n",
       "\n",
       "    .dataframe tbody tr th {\n",
       "        vertical-align: top;\n",
       "    }\n",
       "\n",
       "    .dataframe thead th {\n",
       "        text-align: right;\n",
       "    }\n",
       "</style>\n",
       "<table border=\"1\" class=\"dataframe\">\n",
       "  <thead>\n",
       "    <tr style=\"text-align: right;\">\n",
       "      <th>visitFlag</th>\n",
       "      <th>0</th>\n",
       "      <th>1</th>\n",
       "      <th>All</th>\n",
       "    </tr>\n",
       "    <tr>\n",
       "      <th>group</th>\n",
       "      <th></th>\n",
       "      <th></th>\n",
       "      <th></th>\n",
       "    </tr>\n",
       "  </thead>\n",
       "  <tbody>\n",
       "    <tr>\n",
       "      <th>Control</th>\n",
       "      <td>26839</td>\n",
       "      <td>6131</td>\n",
       "      <td>32970</td>\n",
       "    </tr>\n",
       "    <tr>\n",
       "      <th>Treatment</th>\n",
       "      <td>12696</td>\n",
       "      <td>3847</td>\n",
       "      <td>16543</td>\n",
       "    </tr>\n",
       "    <tr>\n",
       "      <th>All</th>\n",
       "      <td>39535</td>\n",
       "      <td>9978</td>\n",
       "      <td>49513</td>\n",
       "    </tr>\n",
       "  </tbody>\n",
       "</table>\n",
       "</div>"
      ],
      "text/plain": [
       "visitFlag      0     1    All\n",
       "group                        \n",
       "Control    26839  6131  32970\n",
       "Treatment  12696  3847  16543\n",
       "All        39535  9978  49513"
      ]
     },
     "execution_count": 11,
     "metadata": {},
     "output_type": "execute_result"
    }
   ],
   "source": [
    "#crosstab by groups\n",
    "groupped = pd.crosstab(grossery_web_data_diff_mean['group'], grossery_web_data_diff_mean['visitFlag'], values=grossery_web_data_diff_mean['Count'], aggfunc=np.sum, margins=True)\n",
    "groupped"
   ]
  },
  {
   "cell_type": "code",
   "execution_count": 12,
   "metadata": {
    "execution": {
     "iopub.execute_input": "2020-09-28T09:36:25.085398Z",
     "iopub.status.busy": "2020-09-28T09:36:25.084238Z",
     "iopub.status.idle": "2020-09-28T09:36:25.088868Z",
     "shell.execute_reply": "2020-09-28T09:36:25.088114Z"
    },
    "papermill": {
     "duration": 0.040145,
     "end_time": "2020-09-28T09:36:25.089020",
     "exception": false,
     "start_time": "2020-09-28T09:36:25.048875",
     "status": "completed"
    },
    "tags": []
   },
   "outputs": [
    {
     "data": {
      "text/html": [
       "<div>\n",
       "<style scoped>\n",
       "    .dataframe tbody tr th:only-of-type {\n",
       "        vertical-align: middle;\n",
       "    }\n",
       "\n",
       "    .dataframe tbody tr th {\n",
       "        vertical-align: top;\n",
       "    }\n",
       "\n",
       "    .dataframe thead th {\n",
       "        text-align: right;\n",
       "    }\n",
       "</style>\n",
       "<table border=\"1\" class=\"dataframe\">\n",
       "  <thead>\n",
       "    <tr style=\"text-align: right;\">\n",
       "      <th>visitFlag</th>\n",
       "      <th>0</th>\n",
       "      <th>1</th>\n",
       "      <th>All</th>\n",
       "    </tr>\n",
       "    <tr>\n",
       "      <th>group</th>\n",
       "      <th></th>\n",
       "      <th></th>\n",
       "      <th></th>\n",
       "    </tr>\n",
       "  </thead>\n",
       "  <tbody>\n",
       "    <tr>\n",
       "      <th>Control</th>\n",
       "      <td>81.404307</td>\n",
       "      <td>18.595693</td>\n",
       "      <td>100.0</td>\n",
       "    </tr>\n",
       "    <tr>\n",
       "      <th>Treatment</th>\n",
       "      <td>76.745451</td>\n",
       "      <td>23.254549</td>\n",
       "      <td>100.0</td>\n",
       "    </tr>\n",
       "    <tr>\n",
       "      <th>All</th>\n",
       "      <td>79.847717</td>\n",
       "      <td>20.152283</td>\n",
       "      <td>100.0</td>\n",
       "    </tr>\n",
       "  </tbody>\n",
       "</table>\n",
       "</div>"
      ],
      "text/plain": [
       "visitFlag          0          1    All\n",
       "group                                 \n",
       "Control    81.404307  18.595693  100.0\n",
       "Treatment  76.745451  23.254549  100.0\n",
       "All        79.847717  20.152283  100.0"
      ]
     },
     "execution_count": 12,
     "metadata": {},
     "output_type": "execute_result"
    }
   ],
   "source": [
    "#Percentage row\n",
    "\n",
    "100*groupped.div(groupped['All'], axis=0)"
   ]
  },
  {
   "cell_type": "markdown",
   "metadata": {
    "papermill": {
     "duration": 0.022323,
     "end_time": "2020-09-28T09:36:25.134100",
     "exception": false,
     "start_time": "2020-09-28T09:36:25.111777",
     "status": "completed"
    },
    "tags": []
   },
   "source": [
    "In the Control group percentage of users that clicked on the link is ~19% and in the treatment group ~23%, so 4% jump.\n",
    "\n",
    "**The result of our AB test shows that the company can drive approximately 4% more users to click on the app download if they change the link for the App store / Play store button.**"
   ]
  }
 ],
 "metadata": {
  "kernelspec": {
   "display_name": "Python 3",
   "language": "python",
   "name": "python3"
  },
  "language_info": {
   "codemirror_mode": {
    "name": "ipython",
    "version": 3
   },
   "file_extension": ".py",
   "mimetype": "text/x-python",
   "name": "python",
   "nbconvert_exporter": "python",
   "pygments_lexer": "ipython3",
   "version": "3.8.8"
  },
  "papermill": {
   "duration": 8.77285,
   "end_time": "2020-09-28T09:36:25.265356",
   "environment_variables": {},
   "exception": null,
   "input_path": "__notebook__.ipynb",
   "output_path": "__notebook__.ipynb",
   "parameters": {},
   "start_time": "2020-09-28T09:36:16.492506",
   "version": "2.1.0"
  }
 },
 "nbformat": 4,
 "nbformat_minor": 4
}
