{
 "cells": [
  {
   "cell_type": "markdown",
   "id": "7e66ea3d-1cbd-4fbe-92ad-a4f2627658a9",
   "metadata": {},
   "source": [
    "# Grocery Website Download Page AB Testing "
   ]
  },
  {
   "cell_type": "markdown",
   "id": "9838e79d-18ed-4d85-a7ee-81cd9d0a0c5b",
   "metadata": {},
   "source": [
    "\n",
    "**In this use case I am working as an analyst for a large grossery chain. One of the goals our company has, it's to drive more customers to download thier mobile app and register for the loyalty program.**\n",
    "\n",
    "One of the goals of the company discussed here is to get more users to download the mobile app and sign up for the customer loyalty program.\n",
    "\n",
    "<p><img src=\"src/demo.png\" alt=\"\"></p>\n",
    "\n",
    "##### The company is making a link change to a button in the app store and asking if clickthrough rates will increase for the app download page?"
   ]
  },
  {
   "cell_type": "markdown",
   "id": "db182934-8b48-4b66-8275-d709a502a708",
   "metadata": {},
   "source": [
    "## <font color='#d62828'>1- Explain methodology step-by-step foo :</font>\n",
    "\n",
    " - ###  <font color='#f77f00'>What data do we have ?</font>\n",
    "\n",
    "   - IP Address: Client's IP Address\n",
    "   - LoggedInFlag: Indicates whether the user has a profile on our website\n",
    "   - ServerID: Belonging to the Treatment and Control group, 1: Treatment , 2-3: Control\n",
    "   - VisitPageFlag: The status of the user clicking the download link\n",
    "   \n",
    " - ### <font color='#f77f00'> Whats the Duration Of the Test</font> ? \n",
    "   - 1 Weak \n",
    "   \n",
    " - ### <font color='#f77f00'> What's our unit of analysis </font> \n",
    "    - IP Address: Client's IP Address \n",
    "\n",
    " - ### <font color='#f77f00'>  What's our metric to measure success ?  </font> \n",
    "   - Number of click in download\n",
    "   \n",
    "- ### <font color='#f77f00'> The size of our treatment and control groups </font> \n",
    "  - 1/3 of the treatment units and \n",
    "  - 2/3 of control units.\n",
    "  \n",
    " - ### <font color='#f77f00'>  What's our MDE (Minimum Detectable Effect) ? </font> \n",
    "   - MDE 1% \n",
    "   \n",
    "-  ### <font color='#f77f00'> Apply hypothesis testing and check assumptions </font> \n",
    "      - Check Normality & Homogeneity\n",
    "      - Apply tests (Shapiro, Levene Test, T-Test, Welch Test, Mann Whitney U Test)\n",
    "      - Evaluate the results"
   ]
  },
  {
   "cell_type": "code",
   "execution_count": 1,
   "id": "6da5ebe7-acd6-466b-9707-168d6a9f458e",
   "metadata": {},
   "outputs": [],
   "source": [
    "# Data Visualization\n",
    "import matplotlib.pyplot as plt\n",
    "import seaborn as sns\n",
    "import pandas as pd \n",
    "import numpy as np\n",
    "\n",
    "# Hypothesis Testing\n",
    "from scipy.stats import shapiro\n",
    "import scipy.stats as stats\n",
    "\n",
    "# Configuration\n",
    "import warnings\n",
    "pd.options.display.float_format = '{:.4f}'.format\n",
    "pd.set_option('display.max_columns', None)\n",
    "\n",
    "# Plotting setup\n",
    "sns.set(style=\"darkgrid\",color_codes=True)\n",
    "warnings.filterwarnings('ignore')\n",
    "%matplotlib inline"
   ]
  },
  {
   "cell_type": "code",
   "execution_count": 2,
   "id": "58cac94e-230d-491e-a1b2-fc3ea02ef078",
   "metadata": {},
   "outputs": [],
   "source": [
    "# Read Dataset\n",
    "df = pd.read_csv('grocerywebsiteabtestdata.csv')"
   ]
  },
  {
   "cell_type": "code",
   "execution_count": 3,
   "id": "661f6522-cb4f-445f-9031-931559f1ad50",
   "metadata": {},
   "outputs": [
    {
     "data": {
      "text/html": [
       "<div>\n",
       "<style scoped>\n",
       "    .dataframe tbody tr th:only-of-type {\n",
       "        vertical-align: middle;\n",
       "    }\n",
       "\n",
       "    .dataframe tbody tr th {\n",
       "        vertical-align: top;\n",
       "    }\n",
       "\n",
       "    .dataframe thead th {\n",
       "        text-align: right;\n",
       "    }\n",
       "</style>\n",
       "<table border=\"1\" class=\"dataframe\">\n",
       "  <thead>\n",
       "    <tr style=\"text-align: right;\">\n",
       "      <th></th>\n",
       "      <th>RecordID</th>\n",
       "      <th>IP Address</th>\n",
       "      <th>LoggedInFlag</th>\n",
       "      <th>ServerID</th>\n",
       "      <th>VisitPageFlag</th>\n",
       "    </tr>\n",
       "  </thead>\n",
       "  <tbody>\n",
       "    <tr>\n",
       "      <th>0</th>\n",
       "      <td>1</td>\n",
       "      <td>39.13.114.2</td>\n",
       "      <td>1</td>\n",
       "      <td>2</td>\n",
       "      <td>0</td>\n",
       "    </tr>\n",
       "    <tr>\n",
       "      <th>1</th>\n",
       "      <td>2</td>\n",
       "      <td>13.3.25.8</td>\n",
       "      <td>1</td>\n",
       "      <td>1</td>\n",
       "      <td>0</td>\n",
       "    </tr>\n",
       "    <tr>\n",
       "      <th>2</th>\n",
       "      <td>3</td>\n",
       "      <td>247.8.211.8</td>\n",
       "      <td>1</td>\n",
       "      <td>1</td>\n",
       "      <td>0</td>\n",
       "    </tr>\n",
       "    <tr>\n",
       "      <th>3</th>\n",
       "      <td>4</td>\n",
       "      <td>124.8.220.3</td>\n",
       "      <td>0</td>\n",
       "      <td>3</td>\n",
       "      <td>0</td>\n",
       "    </tr>\n",
       "    <tr>\n",
       "      <th>4</th>\n",
       "      <td>5</td>\n",
       "      <td>60.10.192.7</td>\n",
       "      <td>0</td>\n",
       "      <td>2</td>\n",
       "      <td>0</td>\n",
       "    </tr>\n",
       "  </tbody>\n",
       "</table>\n",
       "</div>"
      ],
      "text/plain": [
       "   RecordID   IP Address  LoggedInFlag  ServerID  VisitPageFlag\n",
       "0         1  39.13.114.2             1         2              0\n",
       "1         2    13.3.25.8             1         1              0\n",
       "2         3  247.8.211.8             1         1              0\n",
       "3         4  124.8.220.3             0         3              0\n",
       "4         5  60.10.192.7             0         2              0"
      ]
     },
     "execution_count": 3,
     "metadata": {},
     "output_type": "execute_result"
    }
   ],
   "source": [
    "df.head()"
   ]
  },
  {
   "cell_type": "code",
   "execution_count": 4,
   "id": "f63624de-2862-4f5b-b803-b37c1bb4b0b0",
   "metadata": {},
   "outputs": [
    {
     "data": {
      "text/plain": [
       "RecordID         0\n",
       "IP Address       0\n",
       "LoggedInFlag     0\n",
       "ServerID         0\n",
       "VisitPageFlag    0\n",
       "dtype: int64"
      ]
     },
     "execution_count": 4,
     "metadata": {},
     "output_type": "execute_result"
    }
   ],
   "source": [
    "# check if is there any null value \n",
    "df.isnull().sum()"
   ]
  },
  {
   "cell_type": "markdown",
   "id": "15f96055-b68e-40ab-b261-26e457d60d3e",
   "metadata": {},
   "source": [
    "### <font color='#f77f00'>  Delete Duplicates </font> \n",
    "An Ip address might visit download page multiple times and this can effect our experiment, I reduce the Visit value to 1 for users with multiple visits"
   ]
  },
  {
   "cell_type": "code",
   "execution_count": 5,
   "id": "ea9dcdf1-7496-4a69-9914-357929d8ad7e",
   "metadata": {},
   "outputs": [],
   "source": [
    "df = df.groupby([\"IP Address\", \"LoggedInFlag\", \"ServerID\"])[\"VisitPageFlag\"].sum()"
   ]
  },
  {
   "cell_type": "code",
   "execution_count": 6,
   "id": "3f15dda4-c54f-44a1-95c2-6da49a394979",
   "metadata": {},
   "outputs": [],
   "source": [
    "df = df.reset_index(name=\"VisitPageFlagSum\")"
   ]
  },
  {
   "cell_type": "code",
   "execution_count": 7,
   "id": "b74217db-21fc-4e72-8065-4208552854c0",
   "metadata": {},
   "outputs": [
    {
     "data": {
      "text/plain": [
       "99516"
      ]
     },
     "execution_count": 7,
     "metadata": {},
     "output_type": "execute_result"
    }
   ],
   "source": [
    "len(df['IP Address'].unique())"
   ]
  },
  {
   "cell_type": "code",
   "execution_count": 8,
   "id": "17f05da2-8006-41a5-b044-f873efbe8a7c",
   "metadata": {},
   "outputs": [],
   "source": [
    "df = df.drop_duplicates(subset=['IP Address'], keep='first')"
   ]
  },
  {
   "cell_type": "code",
   "execution_count": 9,
   "id": "371d15cc-3325-4fae-83f4-cf84b41af39c",
   "metadata": {},
   "outputs": [
    {
     "data": {
      "text/html": [
       "<div>\n",
       "<style scoped>\n",
       "    .dataframe tbody tr th:only-of-type {\n",
       "        vertical-align: middle;\n",
       "    }\n",
       "\n",
       "    .dataframe tbody tr th {\n",
       "        vertical-align: top;\n",
       "    }\n",
       "\n",
       "    .dataframe thead th {\n",
       "        text-align: right;\n",
       "    }\n",
       "</style>\n",
       "<table border=\"1\" class=\"dataframe\">\n",
       "  <thead>\n",
       "    <tr style=\"text-align: right;\">\n",
       "      <th></th>\n",
       "      <th>IP Address</th>\n",
       "      <th>LoggedInFlag</th>\n",
       "      <th>ServerID</th>\n",
       "      <th>VisitPageFlagSum</th>\n",
       "    </tr>\n",
       "  </thead>\n",
       "  <tbody>\n",
       "    <tr>\n",
       "      <th>0</th>\n",
       "      <td>0.0.108.2</td>\n",
       "      <td>0</td>\n",
       "      <td>1</td>\n",
       "      <td>0</td>\n",
       "    </tr>\n",
       "    <tr>\n",
       "      <th>1</th>\n",
       "      <td>0.0.109.6</td>\n",
       "      <td>1</td>\n",
       "      <td>1</td>\n",
       "      <td>0</td>\n",
       "    </tr>\n",
       "    <tr>\n",
       "      <th>2</th>\n",
       "      <td>0.0.111.8</td>\n",
       "      <td>0</td>\n",
       "      <td>3</td>\n",
       "      <td>0</td>\n",
       "    </tr>\n",
       "    <tr>\n",
       "      <th>3</th>\n",
       "      <td>0.0.160.9</td>\n",
       "      <td>1</td>\n",
       "      <td>2</td>\n",
       "      <td>0</td>\n",
       "    </tr>\n",
       "    <tr>\n",
       "      <th>4</th>\n",
       "      <td>0.0.163.1</td>\n",
       "      <td>0</td>\n",
       "      <td>2</td>\n",
       "      <td>0</td>\n",
       "    </tr>\n",
       "  </tbody>\n",
       "</table>\n",
       "</div>"
      ],
      "text/plain": [
       "  IP Address  LoggedInFlag  ServerID  VisitPageFlagSum\n",
       "0  0.0.108.2             0         1                 0\n",
       "1  0.0.109.6             1         1                 0\n",
       "2  0.0.111.8             0         3                 0\n",
       "3  0.0.160.9             1         2                 0\n",
       "4  0.0.163.1             0         2                 0"
      ]
     },
     "execution_count": 9,
     "metadata": {},
     "output_type": "execute_result"
    }
   ],
   "source": [
    "df.head()"
   ]
  },
  {
   "cell_type": "code",
   "execution_count": 10,
   "id": "c3d55c3b-f3b0-4096-9169-f48e7eeb1219",
   "metadata": {},
   "outputs": [],
   "source": [
    "# 2/3 of control units.\n",
    "# 1/3 of the treatment units and\n",
    "\n",
    "ab_dictionary = {1: \"Treatment\", 2:\"Control\", 3:\"Control\"}\n",
    "df =  df.replace({'ServerID':ab_dictionary})"
   ]
  },
  {
   "cell_type": "markdown",
   "id": "db1b1e71-6759-489d-923a-c272cc267ba7",
   "metadata": {},
   "source": [
    "###  <font color='#f77f00'> EDA </font>"
   ]
  },
  {
   "cell_type": "code",
   "execution_count": 36,
   "id": "86ce23b2-b520-43b9-b603-d710bf13c9e2",
   "metadata": {},
   "outputs": [
    {
     "name": "stdout",
     "output_type": "stream",
     "text": [
      "Control      66287\n",
      "Treatment    33229\n",
      "Name: ServerID, dtype: int64\n",
      "**************************************************\n"
     ]
    },
    {
     "data": {
      "text/plain": [
       "Text(0.5, 1.0, 'Count of each group')"
      ]
     },
     "execution_count": 36,
     "metadata": {},
     "output_type": "execute_result"
    },
    {
     "data": {
      "image/png": "[encoded data removed]",
      "text/plain": [
       "<Figure size 432x288 with 1 Axes>"
      ]
     },
     "metadata": {
      "needs_background": "light"
     },
     "output_type": "display_data"
    }
   ],
   "source": [
    "print(df['ServerID'].value_counts())\n",
    "print(\"*\"*50)\n",
    "\n",
    "countcluster=sns.countplot(x='ServerID', data=df)\n",
    "countcluster.set_title('Count of each group',fontsize=16)"
   ]
  },
  {
   "cell_type": "code",
   "execution_count": 38,
   "id": "3027afce-a702-4958-832c-8c32a2e1fb11",
   "metadata": {},
   "outputs": [
    {
     "name": "stdout",
     "output_type": "stream",
     "text": [
      "0    89538\n",
      "1     9978\n",
      "Name: VisitPageFlagSum, dtype: int64\n",
      "**************************************************\n"
     ]
    },
    {
     "data": {
      "text/plain": [
       "Text(0.5, 1.0, 'Number of VisitPageFlag')"
      ]
     },
     "execution_count": 38,
     "metadata": {},
     "output_type": "execute_result"
    },
    {
     "data": {
      "image/png": "[encoded data removed]",
      "text/plain": [
       "<Figure size 432x288 with 1 Axes>"
      ]
     },
     "metadata": {
      "needs_background": "light"
     },
     "output_type": "display_data"
    }
   ],
   "source": [
    "print(df['VisitPageFlagSum'].value_counts())\n",
    "print('*'*50)\n",
    "countcluster=sns.countplot(x='VisitPageFlagSum', data=df)\n",
    "countcluster.set_title('Number of VisitPageFlag',fontsize=16)"
   ]
  },
  {
   "cell_type": "code",
   "execution_count": 39,
   "id": "15561c24-114a-43d3-9841-182e5621dfc1",
   "metadata": {},
   "outputs": [],
   "source": [
    "# Convert more than 1 VisitPage to 1 \n",
    "df['VisitPageFlagSum'] = df['VisitPageFlagSum'].apply(lambda x: 1 if x !=0 else 0)"
   ]
  },
  {
   "cell_type": "code",
   "execution_count": 15,
   "id": "b4412789-6a65-414d-8cc6-014e4ed8f829",
   "metadata": {},
   "outputs": [
    {
     "data": {
      "text/plain": [
       "Text(0.5, 1.0, 'Total members of each cluster')"
      ]
     },
     "execution_count": 15,
     "metadata": {},
     "output_type": "execute_result"
    },
    {
     "data": {
      "image/png": "[encoded data removed]",
      "text/plain": [
       "<Figure size 432x288 with 1 Axes>"
      ]
     },
     "metadata": {
      "needs_background": "light"
     },
     "output_type": "display_data"
    }
   ],
   "source": [
    "countcluster = sns.countplot(x='VisitPageFlagSum', data=df)\n",
    "countcluster.set_title('Number of Cleaned VisitPageFlag ',fontsize=16)"
   ]
  },
  {
   "cell_type": "code",
   "execution_count": 24,
   "id": "cc2f1a3e-8561-4af2-8f56-3e5d680da4c8",
   "metadata": {},
   "outputs": [
    {
     "data": {
      "text/plain": [
       "0   0.9075\n",
       "1   0.0925\n",
       "Name: VisitPageFlagSum, dtype: float64"
      ]
     },
     "execution_count": 24,
     "metadata": {},
     "output_type": "execute_result"
    }
   ],
   "source": [
    "df.loc[df['ServerID'] == 'Control']['VisitPageFlagSum'].value_counts(normalize=True)"
   ]
  },
  {
   "cell_type": "code",
   "execution_count": 27,
   "id": "0def8985-151d-4554-95df-e4671c41603f",
   "metadata": {},
   "outputs": [
    {
     "data": {
      "text/plain": [
       "0   0.8842\n",
       "1   0.1158\n",
       "Name: VisitPageFlagSum, dtype: float64"
      ]
     },
     "execution_count": 27,
     "metadata": {},
     "output_type": "execute_result"
    }
   ],
   "source": [
    "df.loc[df['ServerID'] == 'Treatment']['VisitPageFlagSum'].value_counts(normalize=True)"
   ]
  },
  {
   "cell_type": "markdown",
   "id": "d8d3e3c0-75f7-4dc4-864b-93007e655369",
   "metadata": {},
   "source": [
    "<a id='ab'></a>\n",
    "## <font color='#f77f00'> A/B Testing</font>\n",
    "\n",
    "### Assumptions:\n",
    "- Check normality\n",
    "- If Normal Distribution, check homogeneity\n",
    "\n",
    "### Steps:\n",
    "- Split & Define Control Group & Test Group\n",
    "- Apply Shapiro Test for normality\n",
    "- If parametric apply Levene Test for homogeneity of variances\n",
    "- If Parametric + homogeneity of variances apply T-Test\n",
    "- If Parametric - homogeneity of variances apply Welch Test\n",
    "- If Non-parametric apply Mann Whitney U Test directly"
   ]
  },
  {
   "cell_type": "code",
   "execution_count": 29,
   "id": "1ec46c4b-cb01-4cc5-b14f-df7401cabee6",
   "metadata": {},
   "outputs": [
    {
     "name": "stdout",
     "output_type": "stream",
     "text": [
      "# A/B Testing Hypothesis\n",
      "H0: A == B\n",
      "H1: A != B \n",
      "\n"
     ]
    },
    {
     "data": {
      "text/html": [
       "<div>\n",
       "<style scoped>\n",
       "    .dataframe tbody tr th:only-of-type {\n",
       "        vertical-align: middle;\n",
       "    }\n",
       "\n",
       "    .dataframe tbody tr th {\n",
       "        vertical-align: top;\n",
       "    }\n",
       "\n",
       "    .dataframe thead th {\n",
       "        text-align: right;\n",
       "    }\n",
       "</style>\n",
       "<table border=\"1\" class=\"dataframe\">\n",
       "  <thead>\n",
       "    <tr style=\"text-align: right;\">\n",
       "      <th></th>\n",
       "      <th>Test Type</th>\n",
       "      <th>AB Hypothesis</th>\n",
       "      <th>p-value</th>\n",
       "      <th>Comment</th>\n",
       "    </tr>\n",
       "  </thead>\n",
       "  <tbody>\n",
       "    <tr>\n",
       "      <th>0</th>\n",
       "      <td>Non-Parametric</td>\n",
       "      <td>Reject H0</td>\n",
       "      <td>0.0000</td>\n",
       "      <td>A/B groups are not similar!</td>\n",
       "    </tr>\n",
       "  </tbody>\n",
       "</table>\n",
       "</div>"
      ],
      "text/plain": [
       "        Test Type AB Hypothesis  p-value                      Comment\n",
       "0  Non-Parametric     Reject H0   0.0000  A/B groups are not similar!"
      ]
     },
     "execution_count": 29,
     "metadata": {},
     "output_type": "execute_result"
    }
   ],
   "source": [
    "# A/B Testing Function - Quick Solution\n",
    "def AB_Test(dataframe, group, target):\n",
    "    \n",
    "    # Split A/B\n",
    "    groupA = dataframe[dataframe[group] == \"Control\"][target]\n",
    "    groupB = dataframe[dataframe[group] == \"Treatment\"][target]\n",
    "    \n",
    "    # Assumption: Normality\n",
    "    ntA = shapiro(groupA)[1] < 0.05\n",
    "    ntB = shapiro(groupB)[1] < 0.05\n",
    "    # H0: Distribution is Normal! - False\n",
    "    # H1: Distribution is not Normal! - True\n",
    "    \n",
    "    \n",
    "    # \"If H0: Normal Distribution\"\n",
    "    if (ntA == False) & (ntB == False): \n",
    "        # Parametric Test\n",
    "        # Assumption: Homogeneity of variances\n",
    "        leveneTest = stats.levene(groupA, groupB)[1] < 0.05\n",
    "        # H0: Homogeneity: False\n",
    "        # H1: Heterogeneous: True\n",
    "        \n",
    "        # \"If H0: Homogeneity of variances\"\n",
    "        if leveneTest == False:\n",
    "            # Homogeneity\n",
    "            ttest = stats.ttest_ind(groupA, groupB, equal_var=True)[1]\n",
    "            # H0: M1 == M2 - False\n",
    "            # H1: M1 != M2 - True\n",
    "        else:\n",
    "            # Heterogeneous\n",
    "            ttest = stats.ttest_ind(groupA, groupB, equal_var=False)[1]\n",
    "            # H0: M1 == M2 - False\n",
    "            # H1: M1 != M2 - True\n",
    "    else:\n",
    "        # Non-Parametric Test\n",
    "        ttest = stats.mannwhitneyu(groupA, groupB)[1] \n",
    "        # H0: M1 == M2 - False\n",
    "        # H1: M1 != M2 - True\n",
    "        \n",
    "    # Put Result into a Dataframe\n",
    "    temp = pd.DataFrame({\n",
    "        \"AB Hypothesis\":[ttest < 0.05], \n",
    "        \"p-value\":[ttest]\n",
    "    })\n",
    "\n",
    "    temp[\"Test Type\"] = np.where((ntA == False) & (ntB == False), \"Parametric\", \"Non-Parametric\")\n",
    "    temp[\"AB Hypothesis\"] = np.where(temp[\"AB Hypothesis\"] == False, \"Fail to Reject H0\", \"Reject H0\")\n",
    "    temp[\"Comment\"] = np.where(temp[\"AB Hypothesis\"] == \"Fail to Reject H0\", \"A/B groups are similar!\", \"A/B groups are not similar!\")\n",
    "    \n",
    "    if (ntA == False) & (ntB == False):\n",
    "        temp[\"Homogeneity\"] = np.where(leveneTest == False, \"Yes\", \"No\")\n",
    "        temp = temp[[\"Test Type\", \"Homogeneity\",\"AB Hypothesis\", \"p-value\", \"Comment\"]]\n",
    "    else:\n",
    "        temp = temp[[\"Test Type\",\"AB Hypothesis\", \"p-value\", \"Comment\"]]\n",
    "    \n",
    "    # Print Hypothesis\n",
    "    print(\"# A/B Testing Hypothesis\")\n",
    "    print(\"H0: A == B\")\n",
    "    print(\"H1: A != B\", \"\\n\")\n",
    "    \n",
    "    return temp\n",
    "    \n",
    "    \n",
    "    \n",
    "# Apply A/B Testing\n",
    "AB_Test(dataframe=df, group = \"ServerID\", target = \"VisitPageFlagSum\")"
   ]
  },
  {
   "cell_type": "code",
   "execution_count": 33,
   "id": "d776acc3-7151-4143-90b8-2f3d94604686",
   "metadata": {},
   "outputs": [],
   "source": [
    "#crosstab by groups\n",
    "\n",
    "group_count = df.groupby(['ServerID', 'VisitPageFlagSum'])['ServerID'].count().reset_index(name='Count')\n",
    "groupped = pd.crosstab(group_count['ServerID'], group_count['VisitPageFlagSum'], values=group_count['Count'], aggfunc=np.sum, margins=True)"
   ]
  },
  {
   "cell_type": "code",
   "execution_count": 35,
   "id": "d59be463-44b1-4129-8eaf-e60553597f3c",
   "metadata": {},
   "outputs": [
    {
     "data": {
      "text/html": [
       "<div>\n",
       "<style scoped>\n",
       "    .dataframe tbody tr th:only-of-type {\n",
       "        vertical-align: middle;\n",
       "    }\n",
       "\n",
       "    .dataframe tbody tr th {\n",
       "        vertical-align: top;\n",
       "    }\n",
       "\n",
       "    .dataframe thead th {\n",
       "        text-align: right;\n",
       "    }\n",
       "</style>\n",
       "<table border=\"1\" class=\"dataframe\">\n",
       "  <thead>\n",
       "    <tr style=\"text-align: right;\">\n",
       "      <th>VisitPageFlagSum</th>\n",
       "      <th>0</th>\n",
       "      <th>1</th>\n",
       "      <th>All</th>\n",
       "    </tr>\n",
       "    <tr>\n",
       "      <th>ServerID</th>\n",
       "      <th></th>\n",
       "      <th></th>\n",
       "      <th></th>\n",
       "    </tr>\n",
       "  </thead>\n",
       "  <tbody>\n",
       "    <tr>\n",
       "      <th>Control</th>\n",
       "      <td>90.7508</td>\n",
       "      <td>9.2492</td>\n",
       "      <td>100.0000</td>\n",
       "    </tr>\n",
       "    <tr>\n",
       "      <th>Treatment</th>\n",
       "      <td>88.4228</td>\n",
       "      <td>11.5772</td>\n",
       "      <td>100.0000</td>\n",
       "    </tr>\n",
       "    <tr>\n",
       "      <th>All</th>\n",
       "      <td>89.9735</td>\n",
       "      <td>10.0265</td>\n",
       "      <td>100.0000</td>\n",
       "    </tr>\n",
       "  </tbody>\n",
       "</table>\n",
       "</div>"
      ],
      "text/plain": [
       "VisitPageFlagSum       0       1      All\n",
       "ServerID                                 \n",
       "Control          90.7508  9.2492 100.0000\n",
       "Treatment        88.4228 11.5772 100.0000\n",
       "All              89.9735 10.0265 100.0000"
      ]
     },
     "execution_count": 35,
     "metadata": {},
     "output_type": "execute_result"
    }
   ],
   "source": [
    "# get percentage\n",
    "100*groupped.div(groupped['All'], axis=0)"
   ]
  },
  {
   "cell_type": "markdown",
   "id": "61f7ec99-e2c2-446b-8900-2e942b568216",
   "metadata": {},
   "source": [
    "As you can see Control group percentage of users that clicked on the link is **9%** and in the Treatment group is aroud **12%** so we have about **4%** jump."
   ]
  },
  {
   "cell_type": "markdown",
   "id": "da56004f-3ad9-498c-926b-3b24bdac86a3",
   "metadata": {},
   "source": [
    "**The result of our AB test shows that the company can drive approximately about 4% more users to click on the app download if they change the link for the App store / Play store button.**"
   ]
  }
 ],
 "metadata": {
  "kernelspec": {
   "display_name": "tf25",
   "language": "python",
   "name": "tf25"
  },
  "language_info": {
   "codemirror_mode": {
    "name": "ipython",
    "version": 3
   },
   "file_extension": ".py",
   "mimetype": "text/x-python",
   "name": "python",
   "nbconvert_exporter": "python",
   "pygments_lexer": "ipython3",
   "version": "3.8.10"
  }
 },
 "nbformat": 4,
 "nbformat_minor": 5
}
